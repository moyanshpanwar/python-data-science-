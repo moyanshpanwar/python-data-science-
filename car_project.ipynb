{
  "nbformat": 4,
  "nbformat_minor": 0,
  "metadata": {
    "colab": {
      "provenance": [],
      "authorship_tag": "ABX9TyMOET3yU1YgO66XwkowkE06",
      "include_colab_link": true
    },
    "kernelspec": {
      "name": "python3",
      "display_name": "Python 3"
    },
    "language_info": {
      "name": "python"
    }
  },
  "cells": [
    {
      "cell_type": "markdown",
      "metadata": {
        "id": "view-in-github",
        "colab_type": "text"
      },
      "source": [
        "<a href=\"https://colab.research.google.com/github/moyanshpanwar/python-data-science-/blob/main/car_project.ipynb\" target=\"_parent\"><img src=\"https://colab.research.google.com/assets/colab-badge.svg\" alt=\"Open In Colab\"/></a>"
      ]
    },
    {
      "cell_type": "code",
      "execution_count": 2,
      "metadata": {
        "id": "fahv6rj55lq7"
      },
      "outputs": [],
      "source": [
        "import pandas as pd\n",
        "import numpy as np\n",
        "import seaborn as sns\n",
        "import matplotlib.pyplot as plt\n",
        "from sklearn.metrics import mean_squared_error, r2_score\n",
        "from sklearn.linear_model import LinearRegression, Ridge, Lasso\n",
        "from sklearn.model_selection import train_test_split\n",
        "from sklearn.preprocessing import MinMaxScaler"
      ]
    },
    {
      "cell_type": "code",
      "source": [
        "dataset=pd.read_csv('CarPrice_project.csv')"
      ],
      "metadata": {
        "id": "8QQT_PhF6tnc"
      },
      "execution_count": 5,
      "outputs": []
    },
    {
      "cell_type": "code",
      "source": [
        "len(dataset)"
      ],
      "metadata": {
        "id": "bNWttaVO7CtS"
      },
      "execution_count": null,
      "outputs": []
    },
    {
      "cell_type": "code",
      "source": [
        "dataset.info()"
      ],
      "metadata": {
        "id": "wsF0y6Po7J-J"
      },
      "execution_count": null,
      "outputs": []
    },
    {
      "cell_type": "code",
      "source": [
        "dataset.describe()"
      ],
      "metadata": {
        "id": "M0DZF9sl8C9a"
      },
      "execution_count": null,
      "outputs": []
    },
    {
      "cell_type": "code",
      "source": [
        "highest_price= dataset.nlargest(1,'price')[['CarName','price']]\n",
        "print(highest_price)"
      ],
      "metadata": {
        "id": "f9MVWJn88KZh"
      },
      "execution_count": null,
      "outputs": []
    },
    {
      "cell_type": "code",
      "source": [
        "lowest_price= dataset.nsmallest(1,'price')[['CarName','price']]\n",
        "print(lowest_price)"
      ],
      "metadata": {
        "id": "UyN4a2xq8Vxw"
      },
      "execution_count": null,
      "outputs": []
    },
    {
      "cell_type": "code",
      "source": [
        "highest_rpm= dataset.nlargest(1,'peakrpm')[['CarName','peakrpm']]\n",
        "print(highest_rpm)"
      ],
      "metadata": {
        "id": "tZmVpicy8ZsX"
      },
      "execution_count": null,
      "outputs": []
    },
    {
      "cell_type": "code",
      "source": [
        "y=dataset['price'].sort_values().head(10)\n",
        "x=dataset['CarName'].head(10)\n",
        "plt.barh(x,y)\n",
        "plt.show()"
      ],
      "metadata": {
        "id": "Vaa_02oq8qpG"
      },
      "execution_count": null,
      "outputs": []
    },
    {
      "cell_type": "code",
      "source": [
        "y = dataset['price'].head()\n",
        "mylables = dataset['CarName'].head()\n",
        "y = y.dropna()\n",
        "plt.pie(y, labels=mylables)\n",
        "plt.show()"
      ],
      "metadata": {
        "id": "tJNtR2Qh8zZs"
      },
      "execution_count": null,
      "outputs": []
    },
    {
      "cell_type": "code",
      "source": [
        "numerical_features = dataset.select_dtypes(include=np.number)\n",
        "correlation_matrix = numerical_features.corr()\n",
        "sns.heatmap(correlation_matrix, annot=True, cmap='coolwarm')\n",
        "plt.show()"
      ],
      "metadata": {
        "id": "ADq6Uo2T9Bdb"
      },
      "execution_count": null,
      "outputs": []
    },
    {
      "cell_type": "code",
      "source": [
        "dataset.columns"
      ],
      "metadata": {
        "colab": {
          "base_uri": "https://localhost:8080/"
        },
        "id": "CVfHheWf9LIa",
        "outputId": "6ffd8b12-fb0f-4cf1-b23a-1c498380edd8"
      },
      "execution_count": null,
      "outputs": [
        {
          "output_type": "execute_result",
          "data": {
            "text/plain": [
              "Index(['car_ID', 'symboling', 'CarName', 'fueltype', 'aspiration',\n",
              "       'doornumber', 'carbody', 'drivewheel', 'enginelocation', 'wheelbase',\n",
              "       'carlength', 'carwidth', 'carheight', 'curbweight', 'enginetype',\n",
              "       'cylindernumber', 'enginesize', 'fuelsystem', 'boreratio', 'stroke',\n",
              "       'compressionratio', 'horsepower', 'peakrpm', 'citympg', 'highwaympg',\n",
              "       'price'],\n",
              "      dtype='object')"
            ]
          },
          "metadata": {},
          "execution_count": 31
        }
      ]
    },
    {
      "cell_type": "code",
      "source": [
        "dataset.head(10)"
      ],
      "metadata": {
        "id": "qyKyDQyV9Onw"
      },
      "execution_count": null,
      "outputs": []
    },
    {
      "cell_type": "code",
      "source": [
        "plt.scatter(dataset['symboling'],dataset['price'],alpha=0.5)\n",
        "plt.title('symboling vs price')\n",
        "plt.xlabel('symboling')\n",
        "plt.ylabel('price')\n",
        "plt.show()"
      ],
      "metadata": {
        "id": "AmBx-Ve39Ydo"
      },
      "execution_count": null,
      "outputs": []
    },
    {
      "cell_type": "code",
      "source": [
        "plt.scatter(dataset['wheelbase'],dataset['price'],alpha=0.5)\n",
        "plt.title('wheelbase vs price')\n",
        "plt.xlabel('wheelbase')\n",
        "plt.ylabel('price')\n",
        "plt.show()\n"
      ],
      "metadata": {
        "id": "LmeLqp3D9cV4"
      },
      "execution_count": null,
      "outputs": []
    },
    {
      "cell_type": "code",
      "source": [
        "plt.scatter(dataset['carlength'],dataset['price'],alpha=0.5)\n",
        "plt.title('carlength\tvs price')\n",
        "plt.xlabel('carlength')\n",
        "plt.ylabel('price')\n",
        "plt.show()"
      ],
      "metadata": {
        "id": "ESswCRM79gW_"
      },
      "execution_count": null,
      "outputs": []
    },
    {
      "cell_type": "code",
      "source": [
        "plt.scatter(dataset['enginesize'],dataset['price'],alpha=0.5)\n",
        "plt.title('enginesize\tvs price')\n",
        "plt.xlabel('enginesize')\n",
        "plt.ylabel('price')\n",
        "plt.show()"
      ],
      "metadata": {
        "id": "URORHkLN9x5t"
      },
      "execution_count": null,
      "outputs": []
    },
    {
      "cell_type": "code",
      "source": [
        "plt.scatter(dataset['boreratio'],dataset['price'],alpha=0.5)\n",
        "plt.title('boreratio vs price')\n",
        "plt.xlabel('boreratio')\n",
        "plt.ylabel('price')\n",
        "plt.show()"
      ],
      "metadata": {
        "id": "0qWp3o0N91td"
      },
      "execution_count": null,
      "outputs": []
    },
    {
      "cell_type": "code",
      "source": [
        "plt.scatter(dataset['stroke'],dataset['price'],alpha=0.5)\n",
        "plt.title('stroke vs price')\n",
        "plt.xlabel('stroke')\n",
        "plt.ylabel('price')\n",
        "plt.show()"
      ],
      "metadata": {
        "id": "1Kpq43HP98Ec"
      },
      "execution_count": null,
      "outputs": []
    },
    {
      "cell_type": "code",
      "source": [
        "plt.scatter(dataset['compressionratio'],dataset['price'],alpha=0.5)\n",
        "plt.title('compressionratio vs price')\n",
        "plt.xlabel('compressionratio')\n",
        "plt.ylabel('price')\n",
        "plt.show()"
      ],
      "metadata": {
        "id": "NgppvyeO-HPD"
      },
      "execution_count": null,
      "outputs": []
    },
    {
      "cell_type": "code",
      "source": [
        "plt.scatter(dataset['horsepower'],dataset['price'],alpha=0.5)\n",
        "plt.title('horsepower vs price')\n",
        "plt.xlabel('horsepower')\n",
        "plt.ylabel('price')\n",
        "plt.show()"
      ],
      "metadata": {
        "id": "84DUnRFt-Koq"
      },
      "execution_count": null,
      "outputs": []
    },
    {
      "cell_type": "code",
      "source": [
        "plt.scatter(dataset['peakrpm'],dataset['price'],alpha=0.5)\n",
        "plt.title('peakrpm vs price')\n",
        "plt.xlabel('peakrpm')\n",
        "plt.ylabel('price')\n",
        "plt.show()"
      ],
      "metadata": {
        "id": "_R7Xe0at-OgK"
      },
      "execution_count": null,
      "outputs": []
    },
    {
      "cell_type": "code",
      "source": [
        "plt.scatter(dataset['citympg'],dataset['price'],alpha=0.5)\n",
        "plt.title('citympg vs price')\n",
        "plt.xlabel('citympg')\n",
        "plt.ylabel('price')\n",
        "plt.show()"
      ],
      "metadata": {
        "id": "2RsDT7YI-Tr6"
      },
      "execution_count": null,
      "outputs": []
    },
    {
      "cell_type": "code",
      "source": [
        "plt.scatter(dataset['highwaympg'],dataset['price'],alpha=0.5)\n",
        "plt.title('highwaympg vs price')\n",
        "plt.xlabel('highwaympg')\n",
        "plt.ylabel('price')\n",
        "plt.show()"
      ],
      "metadata": {
        "id": "GdSh5MtK-XoJ"
      },
      "execution_count": null,
      "outputs": []
    },
    {
      "cell_type": "code",
      "source": [
        "dataset['price'].hist(bins=30, edgecolor='black')\n",
        "plt.title('Distribution of price')\n",
        "plt.xlabel('price ($1000)')\n",
        "plt.ylabel('Frequency')\n",
        "plt.show()"
      ],
      "metadata": {
        "id": "yFQXspjg-bLR"
      },
      "execution_count": null,
      "outputs": []
    },
    {
      "cell_type": "code",
      "source": [
        "#now here we create dependent and independent variable\n",
        "X=dataset.drop(['price'],axis=1)\n",
        "X"
      ],
      "metadata": {
        "id": "YbaLTMRi-e_w"
      },
      "execution_count": null,
      "outputs": []
    },
    {
      "cell_type": "code",
      "source": [
        "Y=dataset['price']\n",
        "Y"
      ],
      "metadata": {
        "id": "NELfDR0X-kjX"
      },
      "execution_count": null,
      "outputs": []
    },
    {
      "cell_type": "code",
      "source": [
        "#we split the training and testing data\n",
        "X_train, X_test, y_train, y_test = train_test_split(X, Y, test_size=0.2, random_state=42)"
      ],
      "metadata": {
        "id": "odFEKlUGzDfT"
      },
      "execution_count": 17,
      "outputs": []
    },
    {
      "cell_type": "code",
      "source": [
        "X_train[0:10]"
      ],
      "metadata": {
        "id": "ir94KJzAzGeL"
      },
      "execution_count": null,
      "outputs": []
    },
    {
      "cell_type": "code",
      "source": [
        "numerical_features = X.select_dtypes(include=np.number).columns\n",
        "\n",
        "X_train, X_test, y_train, y_test = train_test_split(\n",
        "    X[numerical_features], Y, test_size=0.2, random_state=42\n",
        ")\n",
        "\n",
        "scaler = MinMaxScaler()\n",
        "X_train = scaler.fit_transform(X_train)\n",
        "X_test = scaler.transform(X_test)"
      ],
      "metadata": {
        "id": "ro7shbXczHn4"
      },
      "execution_count": 19,
      "outputs": []
    },
    {
      "cell_type": "code",
      "source": [
        "X_train[0:10]"
      ],
      "metadata": {
        "id": "cQoPbYrQzIBG"
      },
      "execution_count": null,
      "outputs": []
    },
    {
      "cell_type": "code",
      "source": [
        "regressor = LinearRegression()\n",
        "regressor.fit(X_train, y_train)"
      ],
      "metadata": {
        "id": "CHvxlKpGzRZY"
      },
      "execution_count": null,
      "outputs": []
    },
    {
      "cell_type": "code",
      "source": [
        "regressor.intercept_"
      ],
      "metadata": {
        "id": "yxltHbOLzQzr"
      },
      "execution_count": null,
      "outputs": []
    },
    {
      "cell_type": "code",
      "source": [
        "regressor.coef_"
      ],
      "metadata": {
        "id": "W53Kgi7Aza7D"
      },
      "execution_count": null,
      "outputs": []
    },
    {
      "cell_type": "code",
      "source": [
        "y_pred = regressor.predict(X_test)\n",
        "\n",
        "mse = mean_squared_error(y_test, y_pred)\n",
        "r2 = r2_score(y_test, y_pred)\n",
        "\n",
        "print(f\"Mean Squared Error: {mse}\")\n",
        "print(f\"R-squared: {r2}\")"
      ],
      "metadata": {
        "id": "yaRmX-Nwzaz8"
      },
      "execution_count": null,
      "outputs": []
    },
    {
      "cell_type": "code",
      "source": [
        "residuals = y_test - y_pred\n",
        "plt.scatter(y_pred, residuals)\n",
        "plt.title('Residuals vs. Predicted')\n",
        "plt.xlabel('Predicted Values')\n",
        "plt.ylabel('Residuals')\n",
        "plt.axhline(y=0, color='r', linestyle='--')\n",
        "plt.show()"
      ],
      "metadata": {
        "id": "ctB9adk5zap8"
      },
      "execution_count": null,
      "outputs": []
    },
    {
      "cell_type": "code",
      "source": [
        "#ridge regression\n",
        "ridge_reg = Ridge(alpha=1.0)\n",
        "ridge_reg.fit(X_train, y_train)\n"
      ],
      "metadata": {
        "id": "OIcQ5OrQzad1"
      },
      "execution_count": null,
      "outputs": []
    },
    {
      "cell_type": "code",
      "source": [
        "#lasso regression\n",
        "lasso_reg = Lasso(alpha=0.1)\n",
        "lasso_reg.fit(X_train, y_train)"
      ],
      "metadata": {
        "id": "RVrftXmWzsPk"
      },
      "execution_count": null,
      "outputs": []
    },
    {
      "cell_type": "code",
      "source": [
        "y_pred_lin = regressor.predict(X_test)\n",
        "y_pred_ridge = ridge_reg.predict(X_test)\n",
        "y_pred_lasso = lasso_reg.predict(X_test)\n",
        "y_pred_lin, y_pred_ridge, y_pred_lasso"
      ],
      "metadata": {
        "id": "YM8s1B7SzsIN"
      },
      "execution_count": null,
      "outputs": []
    },
    {
      "cell_type": "code",
      "source": [
        "mse_lin = mean_squared_error(y_test, y_pred_lin)\n",
        "mse_ridge = mean_squared_error(y_test, y_pred_ridge)\n",
        "mse_lasso = mean_squared_error(y_test, y_pred_lasso)\n",
        "mse_lin, mse_ridge, mse_lasso"
      ],
      "metadata": {
        "id": "5xg5Xs9DzsAX"
      },
      "execution_count": null,
      "outputs": []
    },
    {
      "cell_type": "code",
      "source": [
        "r2_lin = r2_score(y_test, y_pred_lin)\n",
        "r2_ridge = r2_score(y_test, y_pred_ridge)\n",
        "r2_lasso = r2_score(y_test, y_pred_lasso)\n",
        "r2_lin, r2_ridge, r2_lasso"
      ],
      "metadata": {
        "id": "4CpffARbzr1A"
      },
      "execution_count": null,
      "outputs": []
    },
    {
      "cell_type": "code",
      "source": [
        "print(f\"Linear Regression - MSE: {mse_lin}, R²: {r2_lin}\")\n",
        "print(f\"Ridge Regression - MSE: {mse_ridge}, R²: {r2_ridge}\")\n",
        "print(f\"Lasso Regression - MSE: {mse_lasso}, R²: {r2_lasso}\")"
      ],
      "metadata": {
        "id": "ss8LbpD0z7lF"
      },
      "execution_count": null,
      "outputs": []
    },
    {
      "cell_type": "code",
      "source": [
        "horsepower_column_index = 9\n",
        "\n",
        "plt.scatter(X_test[21:, horsepower_column_index], y_test[21:], color='blue', label='Actual data', alpha=0.5)\n",
        "plt.plot(X_test[:, horsepower_column_index], y_pred_lin, color='red', linewidth=2, label='Linear Regression')\n",
        "plt.xlabel('horse power')\n",
        "plt.ylabel('price)')\n",
        "plt.title('Linear Regression on car price')\n",
        "plt.legend()\n",
        "plt.show()"
      ],
      "metadata": {
        "id": "kgMHVBlpz7hm"
      },
      "execution_count": null,
      "outputs": []
    },
    {
      "cell_type": "code",
      "source": [
        "peakrpm_column_index = numerical_features.get_loc('peakrpm')\n",
        "\n",
        "plt.scatter(X_test[21:, peakrpm_column_index], y_test[21:], color='blue', label='Actual data', alpha=0.5)\n",
        "plt.plot(X_test[:, peakrpm_column_index], y_pred_lin, color='green', linewidth=2, label='ridge Regression')\n",
        "plt.xlabel('peak rpm')\n",
        "plt.ylabel('price')\n",
        "plt.title('ridge Regression on Car price')\n",
        "plt.legend()\n",
        "plt.show()"
      ],
      "metadata": {
        "id": "Zt75lVQ9z7eq"
      },
      "execution_count": null,
      "outputs": []
    },
    {
      "cell_type": "code",
      "source": [
        "engine_size_index = numerical_features.get_loc('enginesize')\n",
        "\n",
        "plt.scatter(X_test[:, engine_size_index], y_test, color='blue', label='Actual data', alpha=0.5)\n",
        "plt.plot(X_test[:, engine_size_index], y_pred_lasso, color='orange', linestyle=':', linewidth=2, label='Lasso Regression')\n",
        "\n",
        "plt.xlabel('engine size')\n",
        "plt.ylabel('price')\n",
        "plt.title('Lasso Regression on Car price Dataset')\n",
        "plt.legend()\n",
        "plt.show()"
      ],
      "metadata": {
        "id": "KeZuUIGxz7W9"
      },
      "execution_count": null,
      "outputs": []
    }
  ]
}