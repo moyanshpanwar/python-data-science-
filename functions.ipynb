{
  "nbformat": 4,
  "nbformat_minor": 0,
  "metadata": {
    "colab": {
      "provenance": [],
      "authorship_tag": "ABX9TyMT1utiAmFUDcUwW3OaE2xW",
      "include_colab_link": true
    },
    "kernelspec": {
      "name": "python3",
      "display_name": "Python 3"
    },
    "language_info": {
      "name": "python"
    }
  },
  "cells": [
    {
      "cell_type": "markdown",
      "metadata": {
        "id": "view-in-github",
        "colab_type": "text"
      },
      "source": [
        "<a href=\"https://colab.research.google.com/github/moyanshpanwar/python-data-science-/blob/main/functions.ipynb\" target=\"_parent\"><img src=\"https://colab.research.google.com/assets/colab-badge.svg\" alt=\"Open In Colab\"/></a>"
      ]
    },
    {
      "cell_type": "markdown",
      "source": [],
      "metadata": {
        "id": "qD0zO9oTJuPF"
      }
    },
    {
      "cell_type": "markdown",
      "source": [
        "#functions\n"
      ],
      "metadata": {
        "id": "EY8ZwlpQJznb"
      }
    },
    {
      "cell_type": "code",
      "execution_count": null,
      "metadata": {
        "id": "gtMlPitLJWsa"
      },
      "outputs": [],
      "source": [
        "def extract_first_letters(sentence):\n",
        "  #step 1-get the list of words of the sentence\n",
        "  words_in_sentence=sentence.split(\" \")\n",
        "  #step 2-write the list comprehension\n",
        "  first_letters=[word[0] for word in words_in_sentence]\n",
        "  #step 3-return\n",
        "  return first_letters\n",
        "heisenberg_quote='It ceases to exist without me.No,you clearly dont who you are talking to,so let me clue you in.I am not dang'\n",
        "print(extract_first_letters(heisenberg_quote))"
      ]
    },
    {
      "cell_type": "markdown",
      "source": [
        "function return the factorial of a number"
      ],
      "metadata": {
        "id": "lrXg4CBD_ipu"
      }
    },
    {
      "cell_type": "code",
      "source": [
        "def factorial(num):\n",
        "  result=1\n",
        "  if(num<0):\n",
        "    print(\"factorial is not defined for negative number\")\n",
        "  elif(num>0):\n",
        "    for i in range(1,num+1):\n",
        "      result*=i\n",
        "    print(f'factorial of {num} is {result}')\n",
        "  else:\n",
        "    result=1\n",
        "    print('factorial of 0 is',result)\n",
        "\n",
        "factorial(5)\n"
      ],
      "metadata": {
        "id": "DlEv0i7F_iU-"
      },
      "execution_count": null,
      "outputs": []
    },
    {
      "cell_type": "markdown",
      "source": [
        "function which takes date as a string and prints the quater as output"
      ],
      "metadata": {
        "id": "bFE5ObyJBV6R"
      }
    },
    {
      "cell_type": "code",
      "source": [
        "def assign_quater(user_date):\n",
        "  date_year=user_date[0:4]\n",
        "  date_month=user_date[5:7]\n",
        "  if(date_month>='01') & (date_month<='03'):\n",
        "    quater_date=date_year+'-Q1'\n",
        "  elif(date_month>='04') & (date_month<='06'):\n",
        "    quater_date=date_year+'-Q2'\n",
        "  elif(date_month>='07') & (date_month<='09'):\n",
        "    quater_date=date_year+'-Q3'\n",
        "  else:\n",
        "    quater_date=date_year+'-Q4'\n",
        "sample_date='2025-02-11'\n",
        "date_quater=assign_quater(sample_date)\n",
        "print(date_quater)\n",
        "my_quater=assign_quater(sample_date)\n",
        "print(my_quater)\n"
      ],
      "metadata": {
        "colab": {
          "base_uri": "https://localhost:8080/"
        },
        "id": "tDc_UBbiBVb2",
        "outputId": "b776af8c-c879-4ef4-fd39-12fc8ad216fd"
      },
      "execution_count": 29,
      "outputs": [
        {
          "output_type": "stream",
          "name": "stdout",
          "text": [
            "None\n",
            "None\n"
          ]
        }
      ]
    },
    {
      "cell_type": "markdown",
      "source": [
        "function with multiple return statements"
      ],
      "metadata": {
        "id": "btfdoYopEkYT"
      }
    },
    {
      "cell_type": "code",
      "source": [
        "def check_even_or_odd(num):\n",
        "    print(f'Given number is {num}')\n",
        "    if num % 2 == 0:\n",
        "        return 'even'\n",
        "    else:\n",
        "        return 'odd'\n",
        "\n",
        "is_even_odd = check_even_or_odd(10)\n",
        "print(is_even_odd)\n",
        ""
      ],
      "metadata": {
        "id": "j4Lx4m-4Ea_E"
      },
      "execution_count": null,
      "outputs": []
    },
    {
      "cell_type": "markdown",
      "source": [
        "function which element to a list\n"
      ],
      "metadata": {
        "id": "Y59an0ePFi4i"
      }
    },
    {
      "cell_type": "code",
      "source": [
        "def list_append(my_list,elem):\n",
        "  new_list=my_list+[elem]\n",
        "  return new_list\n",
        "heights=[172,175,170,168,170,200]\n",
        "print(heights)\n",
        "heights=list_append(heights,elem=40)\n",
        "print(heights)\n",
        "heights.append(60)\n",
        "print(heights)\n",
        "\n"
      ],
      "metadata": {
        "id": "EJl5d883FipI"
      },
      "execution_count": null,
      "outputs": []
    },
    {
      "cell_type": "markdown",
      "source": [
        "#scope"
      ],
      "metadata": {
        "id": "A8lfRNClG23V"
      }
    },
    {
      "cell_type": "code",
      "source": [
        "from re import X\n",
        "def experiment():\n",
        "  global x\n",
        "  x=50\n",
        "  return X\n",
        "\n",
        "x=25\n",
        "print(x)\n",
        "experiment()\n",
        "print(x)"
      ],
      "metadata": {
        "id": "61w9FyyoG2iz"
      },
      "execution_count": null,
      "outputs": []
    },
    {
      "cell_type": "code",
      "source": [
        "def new_experiment():\n",
        "  x=50\n",
        "  return x\n",
        "x=40\n",
        "print(x)\n",
        "new_experiment()\n",
        "print(x)"
      ],
      "metadata": {
        "id": "4wLfax77HZot"
      },
      "execution_count": null,
      "outputs": []
    }
  ]
}