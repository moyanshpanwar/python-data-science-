{
  "nbformat": 4,
  "nbformat_minor": 0,
  "metadata": {
    "colab": {
      "provenance": [],
      "authorship_tag": "ABX9TyOUFfPI/hkkXW2AcEIV9ul/",
      "include_colab_link": true
    },
    "kernelspec": {
      "name": "python3",
      "display_name": "Python 3"
    },
    "language_info": {
      "name": "python"
    }
  },
  "cells": [
    {
      "cell_type": "markdown",
      "metadata": {
        "id": "view-in-github",
        "colab_type": "text"
      },
      "source": [
        "<a href=\"https://colab.research.google.com/github/moyanshpanwar/python-data-science-/blob/main/pandas.ipynb\" target=\"_parent\"><img src=\"https://colab.research.google.com/assets/colab-badge.svg\" alt=\"Open In Colab\"/></a>"
      ]
    },
    {
      "cell_type": "markdown",
      "source": [
        "#pandas\n",
        "creating first pandas series"
      ],
      "metadata": {
        "id": "JCEQXh4G-ZUd"
      }
    },
    {
      "cell_type": "code",
      "execution_count": null,
      "metadata": {
        "id": "Nbj3svE_-N14"
      },
      "outputs": [],
      "source": [
        "import pandas as pd\n",
        "import numpy as np\n",
        "num_series=pd.Series([1,2,3,4,5,6])\n",
        "print(num_series)"
      ]
    },
    {
      "cell_type": "code",
      "source": [
        "number_series=pd.Series([2,3,5,6,8],index=['a','b','c','d','e'],name='Number')\n",
        "print(number_series)"
      ],
      "metadata": {
        "id": "S-ibIEMW_H_6"
      },
      "execution_count": null,
      "outputs": []
    },
    {
      "cell_type": "markdown",
      "source": [
        "#pandas data frame\n",
        "usind 2d array"
      ],
      "metadata": {
        "id": "MYggeoDQ__8S"
      }
    },
    {
      "cell_type": "code",
      "source": [
        "import numpy as np\n",
        "some_2d_array=np.random.randint(2,6,(3,4))\n",
        "data_frame=pd.DataFrame(some_2d_array,columns=['A','B','C','D'])\n",
        "print(data_frame)"
      ],
      "metadata": {
        "id": "AT0A3PUe__lF"
      },
      "execution_count": null,
      "outputs": []
    },
    {
      "cell_type": "code",
      "source": [
        "import numpy as np\n",
        "some_2d_array=np.random.randint(2,6,(3,4))\n",
        "data_frame=pd.DataFrame(some_2d_array,columns=['A','B','C','D'],index=['first','second','third',])\n",
        "print(data_frame)"
      ],
      "metadata": {
        "id": "nNBA8zw3BjDP"
      },
      "execution_count": null,
      "outputs": []
    },
    {
      "cell_type": "markdown",
      "source": [
        "using conventional list of lists"
      ],
      "metadata": {
        "id": "D3UfomkmCI9m"
      }
    },
    {
      "cell_type": "code",
      "source": [
        "list_of_lists=[['aman',10],['akbar',20],['anthony',30]]\n",
        "df=pd.DataFrame(list_of_lists,columns=['name','age'])\n",
        "print(df)"
      ],
      "metadata": {
        "id": "-vaGjUJVCIq_"
      },
      "execution_count": null,
      "outputs": []
    },
    {
      "cell_type": "markdown",
      "source": [
        "using dictionary"
      ],
      "metadata": {
        "id": "R7A1dme-CyUF"
      }
    },
    {
      "cell_type": "code",
      "source": [
        "my_dict={'name':['aman','akbar','anthony'],'age':[10,20,30]}\n",
        "df=pd.DataFrame(my_dict)\n",
        "print(df)"
      ],
      "metadata": {
        "id": "VjEYa1xiCx-c"
      },
      "execution_count": null,
      "outputs": []
    },
    {
      "cell_type": "code",
      "source": [
        "series_dict={'first series':pd.Series([10,20,30,40]),\n",
        "            'second series':pd.Series([10,20,30,40])}\n",
        "df=pd.DataFrame(series_dict)\n",
        "print(df)"
      ],
      "metadata": {
        "id": "ee49iLOYDO7-"
      },
      "execution_count": null,
      "outputs": []
    },
    {
      "cell_type": "markdown",
      "source": [
        "using list of dictionary"
      ],
      "metadata": {
        "id": "BaXA7n1eD6p9"
      }
    },
    {
      "cell_type": "code",
      "source": [
        "list_dicts=[{'a':1,'b':2,'c':3},{'a':10,'b':20,'c':30}]\n",
        "df=pd.DataFrame(list_dicts)\n",
        "print(df)"
      ],
      "metadata": {
        "id": "msVmVp4ZD6VK"
      },
      "execution_count": null,
      "outputs": []
    },
    {
      "cell_type": "markdown",
      "source": [
        "other ways"
      ],
      "metadata": {
        "id": "EPjw-Uh3ElLt"
      }
    },
    {
      "cell_type": "code",
      "source": [
        "actor_names=['ryan reynolds','benedict cumberbatch','robert downey jr','chris evans']\n",
        "actor_ages=[48,62,54,np.nan]\n",
        "list_of_tuples=list(zip(actor_names,actor_ages))\n",
        "actor_df=pd.DataFrame(list_of_tuples,columns=['name','age'])\n",
        "print(actor_df)"
      ],
      "metadata": {
        "id": "OfNXOYUQEk4X"
      },
      "execution_count": null,
      "outputs": []
    },
    {
      "cell_type": "markdown",
      "source": [
        "#data frame methods"
      ],
      "metadata": {
        "id": "KBwBo0v8FZpL"
      }
    },
    {
      "cell_type": "code",
      "source": [
        "actor_names=['ryan reynolds','benedict cumberbatch','robert downey jr','chris evans']\n",
        "actor_ages=[48,62,54,np.nan]\n",
        "list_of_tuples=list(zip(actor_names,actor_ages))\n",
        "actor_df=pd.DataFrame(list_of_tuples,columns=['name','age'])\n",
        "print(actor_df)\n",
        "print(list(actor_df.index))"
      ],
      "metadata": {
        "id": "wnEpeCIAFWv2"
      },
      "execution_count": null,
      "outputs": []
    },
    {
      "cell_type": "markdown",
      "source": [
        "data frame with 100 rows and 5 columns"
      ],
      "metadata": {
        "id": "0pZWveqnF25P"
      }
    },
    {
      "cell_type": "code",
      "source": [
        "our_array=np.random.randn(3,5)\n",
        "df=pd.DataFrame(our_array,columns=['A','B','C','D','E'])\n",
        "print(df)"
      ],
      "metadata": {
        "id": "O_8lPrBYF2nL"
      },
      "execution_count": null,
      "outputs": []
    },
    {
      "cell_type": "markdown",
      "source": [
        "df.head()"
      ],
      "metadata": {
        "id": "PYLZn6xLGbgz"
      }
    },
    {
      "cell_type": "code",
      "source": [
        "our_array=np.random.randn(3,5)\n",
        "df=pd.DataFrame(our_array,columns=['A','B','C','D','E'])\n",
        "print(df)\n",
        "print(df.head())"
      ],
      "metadata": {
        "id": "QjbfCx0IGbMB"
      },
      "execution_count": null,
      "outputs": []
    },
    {
      "cell_type": "markdown",
      "source": [
        "df.tail()"
      ],
      "metadata": {
        "id": "Eo6e8L3MGtLU"
      }
    },
    {
      "cell_type": "code",
      "source": [
        "our_array=np.random.randn(3,5)\n",
        "df=pd.DataFrame(our_array,columns=['A','B','C','D','E'])\n",
        "print(df)\n",
        "print(df.tail())"
      ],
      "metadata": {
        "id": "kLeaK9VWGs64"
      },
      "execution_count": null,
      "outputs": []
    },
    {
      "cell_type": "markdown",
      "source": [
        "df.columns()"
      ],
      "metadata": {
        "id": "mFeust_OG7Qc"
      }
    },
    {
      "cell_type": "code",
      "source": [
        "our_array=np.random.randn(3,5)\n",
        "df=pd.DataFrame(our_array,columns=['A','B','C','D','E'])\n",
        "print(df)\n",
        "print(\"\\n\")\n",
        "print(df.columns)"
      ],
      "metadata": {
        "id": "erONFwT_G7AS"
      },
      "execution_count": null,
      "outputs": []
    },
    {
      "cell_type": "markdown",
      "source": [
        "info()"
      ],
      "metadata": {
        "id": "sN8CUb3nHWba"
      }
    },
    {
      "cell_type": "code",
      "source": [
        "our_array=np.random.randn(3,5)\n",
        "df=pd.DataFrame(our_array,columns=['A','B','C','D','E'])\n",
        "print(df)\n",
        "print(\"\\n\")\n",
        "print(df.info())"
      ],
      "metadata": {
        "id": "FJDpO-F7HWJz"
      },
      "execution_count": null,
      "outputs": []
    },
    {
      "cell_type": "markdown",
      "source": [
        "rename()"
      ],
      "metadata": {
        "id": "Yt-bud59HgDv"
      }
    },
    {
      "cell_type": "code",
      "source": [
        "actor_names=['ryan reynolds','benedict cumberbatch','robert downey jr','chris evans']\n",
        "actor_ages=[48,62,54,np.nan]\n",
        "list_of_tuples=list(zip(actor_names,actor_ages))\n",
        "actor_df=pd.DataFrame(list_of_tuples,columns=['name','age'])\n",
        "print(actor_df)\n",
        "print(\"\\n\")\n",
        "actor_df=actor_df.rename(columns={'name':'actor_name'})\n",
        "print(actor_df)"
      ],
      "metadata": {
        "id": "AFaiFmn0Hfpn"
      },
      "execution_count": null,
      "outputs": []
    },
    {
      "cell_type": "markdown",
      "source": [
        "inplace"
      ],
      "metadata": {
        "id": "zSg_CTocIAQZ"
      }
    },
    {
      "cell_type": "code",
      "source": [
        "actor_names=['ryan reynolds','benedict cumberbatch','robert downey jr','chris evans']\n",
        "actor_ages=[48,62,54,np.nan]\n",
        "list_of_tuples=list(zip(actor_names,actor_ages))\n",
        "actor_df=pd.DataFrame(list_of_tuples,columns=['name','age'])\n",
        "print(actor_df)\n",
        "print(\"\\n\")\n",
        "actor_df=actor_df.rename(columns={'name':'actor_name'},inplace=True)\n",
        "print(actor_df)"
      ],
      "metadata": {
        "id": "RgT38y8AH_9j"
      },
      "execution_count": null,
      "outputs": []
    }
  ]
}