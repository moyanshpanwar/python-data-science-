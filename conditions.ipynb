{
  "nbformat": 4,
  "nbformat_minor": 0,
  "metadata": {
    "colab": {
      "provenance": [],
      "authorship_tag": "ABX9TyO0q/9UzCDC9pICogpjyuoz"
    },
    "kernelspec": {
      "name": "python3",
      "display_name": "Python 3"
    },
    "language_info": {
      "name": "python"
    }
  },
  "cells": [
    {
      "cell_type": "markdown",
      "source": [
        "#assignment statement\n"
      ],
      "metadata": {
        "id": "0o4OFAi8tYGQ"
      }
    },
    {
      "cell_type": "code",
      "execution_count": null,
      "metadata": {
        "id": "KRjIfYA2tFnq"
      },
      "outputs": [],
      "source": [
        "x=3\n",
        "print(1+1)\n",
        "print(len(\"hello team almabetter\"))\n",
        "y=3.14\n",
        "print(y)\n",
        "a=\"mighty\"\n",
        "print(a==\"mighty\")"
      ]
    },
    {
      "cell_type": "markdown",
      "source": [
        "#multiline statements"
      ],
      "metadata": {
        "id": "jC_KxwDSuVtk"
      }
    },
    {
      "cell_type": "code",
      "source": [
        "x=1\n",
        "y=2\n",
        "z=3\n",
        "print(y)\n",
        "a=1+2+3+4+5+6+7+8+9+10\n",
        "print(a)\n",
        "my_list=[1]\n",
        "my_tuple=(1,)\n",
        "print(my_list,my_tuple)\n",
        "a=(1+2+3+4+5+6+7+8+9+10,)\n",
        "print(a)\n",
        "print(type(a))\n",
        "\n",
        "a=1\n",
        "b=2\n",
        "c=3\n",
        "print(c)\n",
        "a,b,c=[1,'a',True],(45,67),{'name':'vikash','age':27}\n",
        "print(a)\n",
        "print(b)\n",
        "print(c)\n",
        "a,b=b,a\n",
        "print(a)\n",
        "print(b)"
      ],
      "metadata": {
        "id": "WL1bFLIwuRTA"
      },
      "execution_count": null,
      "outputs": []
    },
    {
      "cell_type": "markdown",
      "source": [
        "#python comments"
      ],
      "metadata": {
        "id": "zxMWwElHwDkm"
      }
    },
    {
      "cell_type": "code",
      "source": [
        "#this is a comment\n",
        "#print('hello')\n",
        "print(\"hello\")\n",
        "#this is a long comment\n",
        "#and it extends\n",
        "#yo multiple lines\n",
        "a=3\n",
        "print(a)"
      ],
      "metadata": {
        "id": "05dUWW73wAtX"
      },
      "execution_count": null,
      "outputs": []
    },
    {
      "cell_type": "markdown",
      "source": [
        "#indentation in python"
      ],
      "metadata": {
        "id": "TJA4vIqqwpQD"
      }
    },
    {
      "cell_type": "code",
      "source": [
        "a=2\n",
        "b=1\n",
        "if(b>a):\n",
        "  a=5\n",
        "  b=5\n",
        "print(a)\n",
        "print(b)"
      ],
      "metadata": {
        "id": "MjOjwGk8wots"
      },
      "execution_count": null,
      "outputs": []
    },
    {
      "cell_type": "markdown",
      "source": [
        "#conditional statements"
      ],
      "metadata": {
        "id": "ODi-Nr3pxLQy"
      }
    },
    {
      "cell_type": "code",
      "source": [
        "i=4\n",
        "if(i==2):\n",
        "  print(2)\n",
        "elif(i==3):\n",
        "  print(3)\n",
        "else:\n",
        "  print('not 2 and 3')"
      ],
      "metadata": {
        "id": "RBlGXOkIxK6b"
      },
      "execution_count": null,
      "outputs": []
    },
    {
      "cell_type": "code",
      "source": [
        "x=30\n",
        "if(x==30):\n",
        "  print('x is greater than 10!')\n",
        "  print(f'x is {x}')"
      ],
      "metadata": {
        "id": "M-89FfA3xUWY"
      },
      "execution_count": null,
      "outputs": []
    },
    {
      "cell_type": "code",
      "source": [
        "x==20\n",
        "if False:\n",
        "  print('it is true')"
      ],
      "metadata": {
        "id": "cHS5vRdJx8pu"
      },
      "execution_count": 16,
      "outputs": []
    },
    {
      "cell_type": "code",
      "source": [
        "x=False\n",
        "y=True\n",
        "if x:\n",
        "  print('y is true')\n",
        "else:\n",
        "  ('it will be printed in any case where x is not true')"
      ],
      "metadata": {
        "id": "STgFhvVhyPXD"
      },
      "execution_count": 18,
      "outputs": []
    },
    {
      "cell_type": "code",
      "source": [
        "city='new delhi'\n",
        "if (city=='new delhi'):\n",
        "  print('welcome to indian capital')\n",
        "elif(city=='mumbai'):\n",
        "  print('welcome to financial capital of india')\n",
        "else:\n",
        "  print(\"where are you\")\n"
      ],
      "metadata": {
        "id": "deHuAJaLyvJI"
      },
      "execution_count": null,
      "outputs": []
    },
    {
      "cell_type": "code",
      "source": [
        "person='jonny'\n",
        "if(person=='john'):\n",
        "  print(f'hello {person}')\n",
        "else:\n",
        "  print(f'welcome whats your name')"
      ],
      "metadata": {
        "id": "QEHKAYc2zUM8"
      },
      "execution_count": null,
      "outputs": []
    },
    {
      "cell_type": "code",
      "source": [
        "number1=-2\n",
        "number2=9\n",
        "if(number1>0):\n",
        "  if(number2<10):\n",
        "    print(number2+number1)\n",
        "  else:\n",
        "    print(\"should be greater than 10\")\n",
        "elif (number1<0):\n",
        "  print('ahh thats a negative number')\n",
        "else:\n",
        "  print(\"number is zero\")"
      ],
      "metadata": {
        "id": "PcEHJhHfy1jh"
      },
      "execution_count": null,
      "outputs": []
    },
    {
      "cell_type": "markdown",
      "source": [
        "#truthy and falsy"
      ],
      "metadata": {
        "id": "EypgLHcE0gUq"
      }
    },
    {
      "cell_type": "code",
      "source": [
        "if False:\n",
        "  print(\"what do you say\")\n",
        "else:\n",
        "  print(\"i have nothing to say\")"
      ],
      "metadata": {
        "id": "SEKcy4Ui0f8N"
      },
      "execution_count": null,
      "outputs": []
    },
    {
      "cell_type": "code",
      "source": [
        "if[None]:\n",
        "  print(\"well I really had a bad day\")\n",
        "else:\n",
        "  print(\"come on you aced your test\")"
      ],
      "metadata": {
        "id": "_k7mvcxv05Yh"
      },
      "execution_count": null,
      "outputs": []
    },
    {
      "cell_type": "code",
      "source": [
        "if {1,2,3,4}:\n",
        "  print(\"this is true\")\n",
        "else:\n",
        "  print(\"this is false\")"
      ],
      "metadata": {
        "id": "wDxrlR9M1Odv"
      },
      "execution_count": null,
      "outputs": []
    }
  ]
}