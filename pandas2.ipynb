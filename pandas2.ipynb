{
  "nbformat": 4,
  "nbformat_minor": 0,
  "metadata": {
    "colab": {
      "provenance": [],
      "authorship_tag": "ABX9TyO63m0MGHkHOFBw5rC4f2m3",
      "include_colab_link": true
    },
    "kernelspec": {
      "name": "python3",
      "display_name": "Python 3"
    },
    "language_info": {
      "name": "python"
    }
  },
  "cells": [
    {
      "cell_type": "markdown",
      "metadata": {
        "id": "view-in-github",
        "colab_type": "text"
      },
      "source": [
        "<a href=\"https://colab.research.google.com/github/moyanshpanwar/python-data-science-/blob/main/pandas2.ipynb\" target=\"_parent\"><img src=\"https://colab.research.google.com/assets/colab-badge.svg\" alt=\"Open In Colab\"/></a>"
      ]
    },
    {
      "cell_type": "markdown",
      "source": [
        "#pandas2"
      ],
      "metadata": {
        "id": "m8Ssz3UzNffY"
      }
    },
    {
      "cell_type": "code",
      "execution_count": null,
      "metadata": {
        "id": "JFilf5wNKPtu"
      },
      "outputs": [],
      "source": [
        "import pandas as pd\n",
        "data = {\n",
        "    'Name': ['Alice', 'Bob', 'Charlie'],\n",
        "    'Age': [25, 30, 35],\n",
        "    'City': ['New York', 'Los Angeles', 'Chicago']\n",
        "}\n",
        "df = pd.DataFrame(data)\n",
        "print(\"Initial DataFrame:\\n\", df, \"\\n\")"
      ]
    },
    {
      "cell_type": "markdown",
      "source": [
        "writing data frame to csv"
      ],
      "metadata": {
        "id": "jGH4WlKoMzzR"
      }
    },
    {
      "cell_type": "code",
      "source": [
        "import pandas as pd\n",
        "data = {\n",
        "    'Name': ['Alice', 'Bob', 'Charlie'],\n",
        "    'Age': [25, 30, 35],\n",
        "    'City': ['New York', 'Los Angeles', 'Chicago']\n",
        "}\n",
        "df = pd.DataFrame(data)\n",
        "df.to_csv('data.csv', index=False)"
      ],
      "metadata": {
        "id": "IPQS0tNpLBFM"
      },
      "execution_count": 2,
      "outputs": []
    },
    {
      "cell_type": "markdown",
      "source": [
        "reading data frame to csv"
      ],
      "metadata": {
        "id": "oUo9UpdtM3zT"
      }
    },
    {
      "cell_type": "code",
      "source": [
        "import pandas as pd\n",
        "data = {\n",
        "    'Name': ['Alice', 'Bob', 'Charlie'],\n",
        "    'Age': [25, 30, 35],\n",
        "    'City': ['New York', 'Los Angeles', 'Chicago']\n",
        "}\n",
        "df = pd.DataFrame(data)\n",
        "df.to_csv('data.csv', index=False)\n",
        "df_csv = pd.read_csv('data.csv')\n",
        "print(\"DataFrame read from CSV:\\n\", df_csv.head(), \"\\n\")"
      ],
      "metadata": {
        "id": "hV2HYeDvLUEw"
      },
      "execution_count": null,
      "outputs": []
    },
    {
      "cell_type": "markdown",
      "source": [
        "selecting a column in data frame"
      ],
      "metadata": {
        "id": "paxWUKu3M9Iv"
      }
    },
    {
      "cell_type": "code",
      "source": [
        "import pandas as pd\n",
        "data = {\n",
        "    'Name': ['Alice', 'Bob', 'Charlie'],\n",
        "    'Age': [25, 30, 35],\n",
        "    'City': ['New York', 'Los Angeles', 'Chicago']\n",
        "}\n",
        "df = pd.DataFrame(data)\n",
        "ages = df['Age']\n",
        "print(\"Selected Age column:\\n\", ages, \"\\n\")"
      ],
      "metadata": {
        "id": "9d6og09RLh4p"
      },
      "execution_count": null,
      "outputs": []
    },
    {
      "cell_type": "markdown",
      "source": [
        "removing column where age>28"
      ],
      "metadata": {
        "id": "1sbOH_gPNFm9"
      }
    },
    {
      "cell_type": "code",
      "source": [
        "import pandas as pd\n",
        "data = {\n",
        "    'Name': ['Alice', 'Bob', 'Charlie'],\n",
        "    'Age': [25, 30, 35],\n",
        "    'City': ['New York', 'Los Angeles', 'Chicago']\n",
        "}\n",
        "df = pd.DataFrame(data)\n",
        "filtered_df = df[df['Age'] > 28]\n",
        "print(\"Filtered DataFrame (Age > 28):\\n\", filtered_df, \"\\n\")"
      ],
      "metadata": {
        "id": "1OmVfXWEL1vb"
      },
      "execution_count": null,
      "outputs": []
    },
    {
      "cell_type": "markdown",
      "source": [
        "adding a column"
      ],
      "metadata": {
        "id": "uIz1HrEGNLVu"
      }
    },
    {
      "cell_type": "code",
      "source": [
        "import pandas as pd\n",
        "data = {\n",
        "    'Name': ['Alice', 'Bob', 'Charlie'],\n",
        "    'Age': [25, 30, 35],\n",
        "    'City': ['New York', 'Los Angeles', 'Chicago']\n",
        "}\n",
        "df = pd.DataFrame(data)\n",
        "df['Salary'] = [50000, 60000, 70000]\n",
        "print(\"DataFrame after adding Salary column:\\n\", df, \"\\n\")"
      ],
      "metadata": {
        "id": "NKlW4R1IMA0M"
      },
      "execution_count": null,
      "outputs": []
    },
    {
      "cell_type": "markdown",
      "source": [
        "removing a Column"
      ],
      "metadata": {
        "id": "MPNk3d0MNODJ"
      }
    },
    {
      "cell_type": "code",
      "source": [
        "import pandas as pd\n",
        "data = {\n",
        "    'Name': ['Alice', 'Bob', 'Charlie'],\n",
        "    'Age': [25, 30, 35],\n",
        "    'City': ['New York', 'Los Angeles', 'Chicago']\n",
        "}\n",
        "df = pd.DataFrame(data)\n",
        "df = df.drop(columns=['City'])\n",
        "print(\"DataFrame after dropping City column:\\n\", df, \"\\n\")"
      ],
      "metadata": {
        "id": "Vl7dJAWpMLc1"
      },
      "execution_count": null,
      "outputs": []
    },
    {
      "cell_type": "markdown",
      "source": [
        "summary of a data frame"
      ],
      "metadata": {
        "id": "kCk0cOhDNVDy"
      }
    },
    {
      "cell_type": "code",
      "source": [
        "import pandas as pd\n",
        "data = {\n",
        "    'Name': ['Alice', 'Bob', 'Charlie'],\n",
        "    'Age': [25, 30, 35],\n",
        "    'City': ['New York', 'Los Angeles', 'Chicago']\n",
        "}\n",
        "df = pd.DataFrame(data)\n",
        "print(\"Summary statistics:\\n\", df.describe(), \"\\n\")"
      ],
      "metadata": {
        "id": "BpRISh1zMW7C"
      },
      "execution_count": null,
      "outputs": []
    },
    {
      "cell_type": "markdown",
      "source": [
        "finding missing values"
      ],
      "metadata": {
        "id": "kQbdXs8hNau_"
      }
    },
    {
      "cell_type": "code",
      "source": [
        "import pandas as pd\n",
        "data = {\n",
        "    'Name': ['Alice', 'Bob', 'Charlie'],\n",
        "    'Age': [25, 30, 35],\n",
        "    'City': ['New York', 'Los Angeles', 'Chicago']\n",
        "}\n",
        "df = pd.DataFrame(data)\n",
        "print(\"Missing values in each column:\\n\", df.isnull().sum(), \"\\n\")"
      ],
      "metadata": {
        "id": "btzV75NBMf5x"
      },
      "execution_count": null,
      "outputs": []
    }
  ]
}