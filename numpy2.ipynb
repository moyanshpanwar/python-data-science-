{
  "nbformat": 4,
  "nbformat_minor": 0,
  "metadata": {
    "colab": {
      "provenance": [],
      "authorship_tag": "ABX9TyMoTwIZ1mzl/3CpUgg9PCHu",
      "include_colab_link": true
    },
    "kernelspec": {
      "name": "python3",
      "display_name": "Python 3"
    },
    "language_info": {
      "name": "python"
    }
  },
  "cells": [
    {
      "cell_type": "markdown",
      "metadata": {
        "id": "view-in-github",
        "colab_type": "text"
      },
      "source": [
        "<a href=\"https://colab.research.google.com/github/moyanshpanwar/python-data-science-/blob/main/numpy2.ipynb\" target=\"_parent\"><img src=\"https://colab.research.google.com/assets/colab-badge.svg\" alt=\"Open In Colab\"/></a>"
      ]
    },
    {
      "cell_type": "markdown",
      "source": [
        "#array manipulation\n",
        "np.insert(arrobj,val,axis)"
      ],
      "metadata": {
        "id": "t0SuvS03jDeZ"
      }
    },
    {
      "cell_type": "code",
      "execution_count": null,
      "metadata": {
        "id": "Nj4ekGuKi5MO"
      },
      "outputs": [],
      "source": [
        "import numpy as np\n",
        "a=np.random.randint(10,20,(2,3,4))\n",
        "print(a)\n",
        "print(a.shape)\n",
        "a=np.insert(a,1,100,axis=0)\n",
        "print(a)\n",
        "a=np.insert(a,0,50,axis=1)\n",
        "print(a)"
      ]
    },
    {
      "cell_type": "markdown",
      "source": [
        "np.append(arr,val,axis)"
      ],
      "metadata": {
        "id": "73e24XxVj6sc"
      }
    },
    {
      "cell_type": "code",
      "source": [
        "a=np.random.randint(10,20,(2,3,3))\n",
        "print(a)\n",
        "print(a.shape)\n",
        "a=np.append(a,50)\n",
        "print(a)"
      ],
      "metadata": {
        "id": "bATIrygwj6YZ"
      },
      "execution_count": null,
      "outputs": []
    },
    {
      "cell_type": "markdown",
      "source": [
        "np.delete(arr,obj,axis)"
      ],
      "metadata": {
        "id": "-gGlOvVWmLnz"
      }
    },
    {
      "cell_type": "code",
      "source": [
        "a=np.random.randint(2,6,(2,3,3))\n",
        "print(a)\n",
        "a=np.delete(a,0,axis=0)\n",
        "print(\"\\n\")\n",
        "a=np.delete(a,(0,2),axis=1)\n",
        "print(a)"
      ],
      "metadata": {
        "id": "_IDR8TjokcEK"
      },
      "execution_count": null,
      "outputs": []
    },
    {
      "cell_type": "markdown",
      "source": [
        "np.unique(arr,return_index,return_inverse,return_counts)"
      ],
      "metadata": {
        "id": "DoFokANaoD-B"
      }
    },
    {
      "cell_type": "code",
      "source": [
        "a=np.random.randint(10,15,(2,4,5))\n",
        "print(a)\n",
        "print(\"\\n\")\n",
        "a=np.unique(a)\n",
        "print(a)\n",
        "a=np.unique(a,return_index=True)\n",
        "print(a)"
      ],
      "metadata": {
        "id": "UG2SBmuioDjs"
      },
      "execution_count": null,
      "outputs": []
    },
    {
      "cell_type": "markdown",
      "source": [
        "#difference between copy and view"
      ],
      "metadata": {
        "id": "DourO2WnpWkY"
      }
    },
    {
      "cell_type": "markdown",
      "source": [
        "look at a list"
      ],
      "metadata": {
        "id": "7JZs-dVQpcR-"
      }
    },
    {
      "cell_type": "code",
      "source": [
        "a=[1,2,3]\n",
        "print(a)\n",
        "b=a\n",
        "b[0]=10\n",
        "print(b)\n",
        "print(a)"
      ],
      "metadata": {
        "id": "O5Omrs42pWWT"
      },
      "execution_count": null,
      "outputs": []
    },
    {
      "cell_type": "markdown",
      "source": [
        "copy method(list)"
      ],
      "metadata": {
        "id": "dfDJYPxdp4DU"
      }
    },
    {
      "cell_type": "code",
      "source": [
        "a=[1,2,3]\n",
        "b=a.copy()\n",
        "b[0]=10\n",
        "print(a)\n",
        "print(b)"
      ],
      "metadata": {
        "id": "3MYeJCdUp30d"
      },
      "execution_count": null,
      "outputs": []
    },
    {
      "cell_type": "markdown",
      "source": [
        "look at a array"
      ],
      "metadata": {
        "id": "GqpVD663pvSY"
      }
    },
    {
      "cell_type": "code",
      "source": [
        "a=np.array([1,2,3])\n",
        "b=a\n",
        "b[0]=111\n",
        "print(a)\n",
        "print(b)"
      ],
      "metadata": {
        "id": "jrQ7AHEkpuhd"
      },
      "execution_count": null,
      "outputs": []
    },
    {
      "cell_type": "markdown",
      "source": [
        "copy method(array)"
      ],
      "metadata": {
        "id": "9_w3BGhaqUmH"
      }
    },
    {
      "cell_type": "code",
      "source": [
        "a=np.array([1,2,3])\n",
        "b=a.copy()\n",
        "b[0]=11\n",
        "print(a)\n",
        "print(b)"
      ],
      "metadata": {
        "id": "fPr6vYH0qUSm"
      },
      "execution_count": null,
      "outputs": []
    },
    {
      "cell_type": "markdown",
      "source": [
        "#concept of broadcasting"
      ],
      "metadata": {
        "id": "QFepnf2FqoYf"
      }
    },
    {
      "cell_type": "code",
      "source": [
        "a=np.arange(5)+5\n",
        "print(a)\n",
        "print(\"\\n\")\n",
        "b=np.ones((2,2))+3\n",
        "print(b)\n",
        "print(\"\\n\")\n",
        "c=np.arange(3).reshape((3,1))+np.arange(3)\n",
        "print(c)"
      ],
      "metadata": {
        "id": "qymu1LEtqoIn"
      },
      "execution_count": null,
      "outputs": []
    },
    {
      "cell_type": "code",
      "source": [
        "a=np.random.randint(2,6,(2,2))\n",
        "print(a)\n",
        "print(\"\\n\")\n",
        "b=np.random.randint(12,15,(2,2))\n",
        "print(b)\n",
        "print(\"\\n\")\n",
        "c=np.add(a,b)\n",
        "print(c)"
      ],
      "metadata": {
        "id": "fq0NIaHprdvA"
      },
      "execution_count": null,
      "outputs": []
    },
    {
      "cell_type": "markdown",
      "source": [
        "multiply 2 arrays"
      ],
      "metadata": {
        "id": "No_9UQlHr_6e"
      }
    },
    {
      "cell_type": "markdown",
      "source": [],
      "metadata": {
        "id": "x_O1ETlar_vS"
      }
    },
    {
      "cell_type": "code",
      "source": [
        "a=np.random.randint(2,4,(2,4))\n",
        "print(a)\n",
        "print(\"\\n\")\n",
        "b=np.random.randint(4,6,(2,4))\n",
        "print(b)\n",
        "print(\"\\n\")\n",
        "c=np.multiply(a,b)\n",
        "print(c)"
      ],
      "metadata": {
        "id": "gSljAISur_fZ"
      },
      "execution_count": null,
      "outputs": []
    },
    {
      "cell_type": "markdown",
      "source": [
        "divide 2 arrays"
      ],
      "metadata": {
        "id": "HyTNwzjzshae"
      }
    },
    {
      "cell_type": "code",
      "source": [
        "a=np.random.randint(2,4,(2,4))\n",
        "print(a)\n",
        "print(\"\\n\")\n",
        "b=np.random.randint(4,6,(2,4))\n",
        "print(b)\n",
        "print(\"\\n\")\n",
        "c=np.divide(a,b)\n",
        "print(c)"
      ],
      "metadata": {
        "id": "Yp6QbgVLshJx"
      },
      "execution_count": null,
      "outputs": []
    },
    {
      "cell_type": "markdown",
      "source": [
        "#aggregate operations"
      ],
      "metadata": {
        "id": "Xdhmau_ustG3"
      }
    },
    {
      "cell_type": "code",
      "source": [
        "a=np.random.randint(2,3,(2,2))\n",
        "print(a)\n",
        "print(\"\\n\")\n",
        "print(np.sum(a))\n",
        "print(\"\\n\")\n",
        "print(np.sum(a,axis=0))\n",
        "print(\"\\n\")\n",
        "print(np.sum(a,axis=1))"
      ],
      "metadata": {
        "id": "3El-UVjess4j"
      },
      "execution_count": null,
      "outputs": []
    },
    {
      "cell_type": "code",
      "source": [
        "a=np.random.randint(2,5,(2,2))\n",
        "print(a)\n",
        "print(\"\\n\")\n",
        "print(np.min(a))\n",
        "print(\"\\n\")\n",
        "print(np.min(a,axis=0))\n",
        "print(\"\\n\")\n",
        "print(np.min(a,axis=1))"
      ],
      "metadata": {
        "id": "iRiB3pIGtVkK"
      },
      "execution_count": null,
      "outputs": []
    },
    {
      "cell_type": "markdown",
      "source": [
        "sort an array"
      ],
      "metadata": {
        "id": "_b1Hz6VKtkWP"
      }
    },
    {
      "cell_type": "code",
      "source": [
        "a=np.random.randint(2,21,(2,2))\n",
        "print(a)\n",
        "print(\"\\n\")\n",
        "print(np.sort(a,axis=0))\n",
        "print(\"\\n\")\n",
        "print(np.sort(a,axis=1))\n",
        "print(\"\\n\")\n",
        "print(-np.sort(-a,axis=1))"
      ],
      "metadata": {
        "id": "xzizdB0ztkEP"
      },
      "execution_count": null,
      "outputs": []
    }
  ]
}