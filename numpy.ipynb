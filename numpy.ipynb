{
  "nbformat": 4,
  "nbformat_minor": 0,
  "metadata": {
    "colab": {
      "provenance": [],
      "authorship_tag": "ABX9TyO/W7aUy6+jQZU7cyFbb8eX",
      "include_colab_link": true
    },
    "kernelspec": {
      "name": "python3",
      "display_name": "Python 3"
    },
    "language_info": {
      "name": "python"
    }
  },
  "cells": [
    {
      "cell_type": "markdown",
      "metadata": {
        "id": "view-in-github",
        "colab_type": "text"
      },
      "source": [
        "<a href=\"https://colab.research.google.com/github/moyanshpanwar/python-data-science-/blob/main/numpy.ipynb\" target=\"_parent\"><img src=\"https://colab.research.google.com/assets/colab-badge.svg\" alt=\"Open In Colab\"/></a>"
      ]
    },
    {
      "cell_type": "markdown",
      "source": [
        "#importing numpy"
      ],
      "metadata": {
        "id": "w2_z_cdq-b3F"
      }
    },
    {
      "cell_type": "code",
      "execution_count": null,
      "metadata": {
        "id": "cnyXTSVR-W4H"
      },
      "outputs": [],
      "source": [
        "#creating first aaray in python\n",
        "import numpy as np\n",
        "my_array=np.array([1,2,3,4,5,6,7])\n",
        "print(my_array)\n",
        "print(type(my_array))\n",
        "print(my_array.shape)\n",
        "print(my_array.size)"
      ]
    },
    {
      "cell_type": "code",
      "source": [
        "#1-d array of some prime numbers\n",
        "import numpy as np\n",
        "prime_array=np.array([2,3,5,7.7,11.5],dtype='str')\n",
        "print(prime_array)\n",
        "print(type(prime_array[-1]))\n",
        "print(type(prime_array))"
      ],
      "metadata": {
        "id": "YAcYtf2p_fb0"
      },
      "execution_count": null,
      "outputs": []
    },
    {
      "cell_type": "code",
      "source": [
        "#create 2-d array\n",
        "import numpy as np\n",
        "another_array=np.array([[1,2],[5,4]])\n",
        "print(another_array)\n",
        "list_of_lists=[[1,2],[2,4]]\n",
        "print(list_of_lists[0][1])"
      ],
      "metadata": {
        "id": "_xATmXkfAPxY"
      },
      "execution_count": null,
      "outputs": []
    },
    {
      "cell_type": "code",
      "source": [
        "import numpy as np\n",
        "oned_array=np.array(range(0,10))\n",
        "print(oned_array)\n",
        "print(oned_array[5])\n"
      ],
      "metadata": {
        "id": "-ZPrQXSuBZOt"
      },
      "execution_count": null,
      "outputs": []
    },
    {
      "cell_type": "code",
      "source": [
        "another_array=np.array([[1,2],[3,4]])\n",
        "print(another_array[1][0])\n",
        "print(another_array[1])\n",
        "print(another_array.shape)\n",
        "print(another_array.size)"
      ],
      "metadata": {
        "id": "eXckJP9nB-DP"
      },
      "execution_count": null,
      "outputs": []
    },
    {
      "cell_type": "code",
      "source": [
        "twod_array=np.array([[1,2,3,4],[5,6,7,8]])\n",
        "print(twod_array)\n",
        "print(twod_array.shape)\n",
        "print(twod_array.size)"
      ],
      "metadata": {
        "id": "KZlqMYWYCh4r"
      },
      "execution_count": null,
      "outputs": []
    },
    {
      "cell_type": "markdown",
      "source": [
        "#using matplotlib.pyplot"
      ],
      "metadata": {
        "id": "SgGaLx3hC8Az"
      }
    },
    {
      "cell_type": "code",
      "source": [
        "import numpy as np\n",
        "import matplotlib.pyplot as plt\n",
        "height=100\n",
        "width=100\n",
        "random_image=np.random.randint(0,256,(height,width,3),dtype=np.uint8)\n",
        "print(\"matrix representing colour image\")\n",
        "print(random_image)\n",
        "plt.imshow(random_image)\n",
        "plt.axis('off')\n",
        "plt.show()\n",
        "plt.imshow(random_image[:2,:2,:3])"
      ],
      "metadata": {
        "id": "uEBdO3R8C7sK"
      },
      "execution_count": null,
      "outputs": []
    },
    {
      "cell_type": "code",
      "source": [
        "#create 3-d array\n",
        "threeD_array=np.array([[[1,2,3,4],[5,6,7,8]],[[9,10,11,12],[13,14,15,16]]])\n",
        "print(threeD_array)\n",
        "print(threeD_array.shape)"
      ],
      "metadata": {
        "id": "8y-CEKVOEh2-"
      },
      "execution_count": null,
      "outputs": []
    },
    {
      "cell_type": "code",
      "source": [
        "matrix=np.random.randint(0,1,(50,50),dtype=np.uint8)\n",
        "print(matrix)\n",
        "plt.imshow(matrix)\n",
        "plt.axis('off')\n",
        "plt.show()\n",
        "print(matrix.shape)"
      ],
      "metadata": {
        "id": "yj4s7kAlFXhg"
      },
      "execution_count": null,
      "outputs": []
    },
    {
      "cell_type": "code",
      "source": [
        "import numpy as np\n",
        "import matplotlib.pyplot as plt\n",
        "height=100\n",
        "width=100\n",
        "black_image=np.random.binomial(2,0.5,(height,width))\n",
        "plt.imshow(black_image,cmap='gray')\n",
        "plt.axis('off')\n",
        "plt.show()\n"
      ],
      "metadata": {
        "id": "2m1LrCvfGqNE"
      },
      "execution_count": null,
      "outputs": []
    },
    {
      "cell_type": "code",
      "source": [
        "import numpy as np\n",
        "import matplotlib.pyplot as plt\n",
        "width=5\n",
        "height=5\n",
        "matrix=np.random.randint(250,255,(height,width),dtype=np.uint8)\n",
        "plt.imshow(matrix[:,])\n",
        "plt.axis('off')\n",
        "plt.show()\n",
        "print(matrix.shape)\n",
        "print(matrix.size)"
      ],
      "metadata": {
        "id": "hg4iOPtkIFPi"
      },
      "execution_count": null,
      "outputs": []
    },
    {
      "cell_type": "markdown",
      "source": [
        "#array inspection"
      ],
      "metadata": {
        "id": "U5qdRRMWJPND"
      }
    },
    {
      "cell_type": "code",
      "source": [
        "alma_array=np.array([[1,2,3],[4,5,6]])\n",
        "print(alma_array)\n",
        "print(alma_array.shape)\n",
        "print(alma_array.size)\n",
        "print(alma_array.ndim)\n",
        "alma_array=np.array([[1,2,3,4],[4,5,9,10]])\n",
        "print(alma_array)\n",
        "print(alma_array.shape)\n",
        "alma_array=np.array([[[1,2,3],[4,5,6]],\n",
        "                     [[1,2,3],[4,5,6]],\n",
        "                     [[1,2,3],[4,5,6]],\n",
        "                     [[1,2,3],[4,5,6]]])\n",
        "print(alma_array)\n",
        "print(alma_array.shape)"
      ],
      "metadata": {
        "id": "OtcEuuPLJJo3"
      },
      "execution_count": null,
      "outputs": []
    },
    {
      "cell_type": "markdown",
      "source": [
        "2.ndarray.size"
      ],
      "metadata": {
        "id": "63z75gfuLgZE"
      }
    },
    {
      "cell_type": "code",
      "source": [
        "array_of_integers=np.array([0,1,2,3,4,5,6,7,8,9])\n",
        "sample_2d_array=np.array([[1,2,3],[4,5,6]])\n",
        "print('dimensions of array=',array_of_integers.ndim)\n",
        "print('dimensions of array=',sample_2d_array.ndim)"
      ],
      "metadata": {
        "id": "1y8zTnqDLgFk"
      },
      "execution_count": null,
      "outputs": []
    },
    {
      "cell_type": "markdown",
      "source": [
        "3.ndarray.size"
      ],
      "metadata": {
        "id": "l5GL60alMoJ5"
      }
    },
    {
      "cell_type": "code",
      "source": [
        "array_of_integers=np.array([0,1,2,3,4,5,6,7,8,9])\n",
        "sample_2d_array=np.array([[1,2,3],[4,5,6]])\n",
        "print(f'numbers of elements in array={array_of_integers.size}')\n",
        "print(f'numbers of elements in array={sample_2d_array.size}')"
      ],
      "metadata": {
        "id": "2hk4fGVnMnw_"
      },
      "execution_count": null,
      "outputs": []
    },
    {
      "cell_type": "markdown",
      "source": [
        "4.ndarray.dtype"
      ],
      "metadata": {
        "id": "8oX7TM2WWnC3"
      }
    },
    {
      "cell_type": "code",
      "source": [
        "import numpy as np\n",
        "my_array=np.array([1,2,3,4,5])\n",
        "print(my_array.dtype)\n",
        "my_array=np.array([1,2,3,4,5,5.678,-6])\n",
        "print(my_array.dtype)\n",
        "my_array=np.array(['abc','def','ghi'])\n",
        "print(my_array.dtype)"
      ],
      "metadata": {
        "id": "EJKsCf7bWUxe"
      },
      "execution_count": null,
      "outputs": []
    },
    {
      "cell_type": "markdown",
      "source": [
        "5.ndarray.dtype"
      ],
      "metadata": {
        "id": "M2N_hfEPXn2a"
      }
    },
    {
      "cell_type": "code",
      "source": [
        "arravli=np.array([2,3,4])\n",
        "print(arravli)\n",
        "print(arravli.dtype)\n",
        "arravli=arravli.astype(np.float64)\n",
        "print(arravli)\n",
        "print(arravli.dtype)"
      ],
      "metadata": {
        "id": "Fs7qRjTyWUwm"
      },
      "execution_count": null,
      "outputs": []
    },
    {
      "cell_type": "markdown",
      "source": [
        "#why numpy\n",
        "memory"
      ],
      "metadata": {
        "id": "4f5m4-NxYJfA"
      }
    },
    {
      "cell_type": "code",
      "source": [
        "import numpy as np\n",
        "import sys\n",
        "s=[0,1,2,3,4,5,6,7,8,9]\n",
        "print(\"size in bytes:\",sys.getsizeof(s))\n",
        "print(\"size in bytes of whole list:\",sys.getsizeof(s)*len(s))"
      ],
      "metadata": {
        "id": "ItD0DLlvWUvA"
      },
      "execution_count": null,
      "outputs": []
    },
    {
      "cell_type": "code",
      "source": [
        "d=np.array([0,1,2,3,4,5,6,7,8,9])\n",
        "print(\"size of each element:\",d.itemsize)\n",
        "print(\"size of each element:\",d.size*d.itemsize)"
      ],
      "metadata": {
        "id": "OoykRFQYYvGU"
      },
      "execution_count": null,
      "outputs": []
    },
    {
      "cell_type": "markdown",
      "source": [
        "performance"
      ],
      "metadata": {
        "id": "rbHBQUgOZJm6"
      }
    },
    {
      "cell_type": "code",
      "source": [
        "import numpy as np\n",
        "import time\n",
        "size=1000000\n",
        "list1=range(size)\n",
        "list2=range(size)\n",
        "array1=np.array(size)\n",
        "array2=np.array(size)\n",
        "initial_time=time.time()\n",
        "resultant_list=[(a*b) for a,b in zip(list1,list2)]\n",
        "print(\"time taken by list to perform multiplication:\",(time.time()-initial_time)*1000,\"milliseconds\")\n",
        "initial_time=time.time()\n",
        "resultant_array=array1*array2\n",
        "print(\"time taken by array to perform multiplication:\",(time.time()-initial_time)*1000,\"milliseconds\")"
      ],
      "metadata": {
        "id": "z_TOyO43ZJW6"
      },
      "execution_count": null,
      "outputs": []
    },
    {
      "cell_type": "markdown",
      "source": [
        "functionality"
      ],
      "metadata": {
        "id": "9WTcg08ca0FT"
      }
    },
    {
      "cell_type": "code",
      "source": [
        "import numpy as np\n",
        "ls=[1,2,3]\n",
        "arr=np.array([ls])\n",
        "try:\n",
        "  ls=ls+4\n",
        "  arr=arr+4\n",
        "except(TypeError):\n",
        "  print(\"list don't support list+int\")\n",
        "  print(\"numpy don't support arr+int\")"
      ],
      "metadata": {
        "id": "q1m2yxSeayhi"
      },
      "execution_count": null,
      "outputs": []
    },
    {
      "cell_type": "markdown",
      "source": [
        "#different ways to create array\n",
        "unitialized"
      ],
      "metadata": {
        "id": "IAMvBiKxbzpd"
      }
    },
    {
      "cell_type": "code",
      "source": [
        "unitialized_array=np.empty((2,3),dtype=int)\n",
        "print(unitialized_array)"
      ],
      "metadata": {
        "id": "3j9m6l5Jbyjv"
      },
      "execution_count": null,
      "outputs": []
    },
    {
      "cell_type": "markdown",
      "source": [
        "initialized with zeroes"
      ],
      "metadata": {
        "id": "GsZv-27YcLBE"
      }
    },
    {
      "cell_type": "code",
      "source": [
        "zero_array=np.zeros((3,4),dtype=int)\n",
        "print(zero_array)\n",
        "print(zero_array.dtype)"
      ],
      "metadata": {
        "id": "NpIM4H2hcK0M"
      },
      "execution_count": null,
      "outputs": []
    },
    {
      "cell_type": "markdown",
      "source": [
        "initaialized with ones"
      ],
      "metadata": {
        "id": "7tZz5ez5cop5"
      }
    },
    {
      "cell_type": "code",
      "source": [
        "ones_array=np.ones((4,3),dtype=float)\n",
        "print(ones_array)\n",
        "print(ones_array.dtype)"
      ],
      "metadata": {
        "id": "JJtLHf3wcmjp"
      },
      "execution_count": null,
      "outputs": []
    },
    {
      "cell_type": "markdown",
      "source": [
        "array with numerical range"
      ],
      "metadata": {
        "id": "6EHHi2i-dAbI"
      }
    },
    {
      "cell_type": "code",
      "source": [
        "array_range=np.arange(5)\n",
        "print(array_range)\n",
        "array_range=np.arange(10,20,2)\n",
        "print(array_range)"
      ],
      "metadata": {
        "id": "4x7O2FuQdAJ4"
      },
      "execution_count": null,
      "outputs": []
    },
    {
      "cell_type": "markdown",
      "source": [
        "array of random numbers"
      ],
      "metadata": {
        "id": "qJ-Uc0r-dgQm"
      }
    },
    {
      "cell_type": "code",
      "source": [
        "random_array=np.random.normal(1,3,(4,3))\n",
        "print(random_array)\n",
        "random_array=np.random.randint(1,3,(4,3))\n",
        "print(random_array)"
      ],
      "metadata": {
        "id": "0OAqyZ8ndgBl"
      },
      "execution_count": null,
      "outputs": []
    },
    {
      "cell_type": "markdown",
      "source": [
        "array from specified numbers"
      ],
      "metadata": {
        "id": "sX9ddpdMd-A7"
      }
    },
    {
      "cell_type": "code",
      "source": [
        "a=np.full((3,3),100)\n",
        "print(a)\n",
        "a=np.identity(5)\n",
        "print(a)"
      ],
      "metadata": {
        "id": "jzdfMHQLd9nl"
      },
      "execution_count": null,
      "outputs": []
    },
    {
      "cell_type": "markdown",
      "source": [
        "#creating ndarray\n",
        "list to ndarray"
      ],
      "metadata": {
        "id": "UJFOQRMCeZTp"
      }
    },
    {
      "cell_type": "code",
      "source": [
        "list1=[1,2,3]\n",
        "array1=np.asarray(list1)\n",
        "print(list1)"
      ],
      "metadata": {
        "id": "li4IbK_MeZEi"
      },
      "execution_count": null,
      "outputs": []
    },
    {
      "cell_type": "markdown",
      "source": [
        "tuple to ndarrray"
      ],
      "metadata": {
        "id": "56JzEQQ7etOn"
      }
    },
    {
      "cell_type": "code",
      "source": [
        "tuple1=(1,2,3)\n",
        "array2=np.asarray(tuple1)\n",
        "print(array2)"
      ],
      "metadata": {
        "id": "TzC5gc6QetE_"
      },
      "execution_count": null,
      "outputs": []
    },
    {
      "cell_type": "markdown",
      "source": [
        "#indexing and slicing\n",
        "slicing 1-d array"
      ],
      "metadata": {
        "id": "y0kuHPpce-xu"
      }
    },
    {
      "cell_type": "code",
      "source": [
        "a=np.arange(10)\n",
        "print(a)\n",
        "print(a[5])\n",
        "print(a[2:5])\n",
        "print(a[::2])\n",
        "print(a[:6:2])\n",
        "print(a[1::2])\n",
        "print(a[1:6:])"
      ],
      "metadata": {
        "id": "Gp4aVCGLe-hG"
      },
      "execution_count": null,
      "outputs": []
    },
    {
      "cell_type": "markdown",
      "source": [
        "slicing 2-d array"
      ],
      "metadata": {
        "id": "LwPL6rrEf_9C"
      }
    },
    {
      "cell_type": "code",
      "source": [
        "a=np.array([[1,2,3],[4,5,6]])\n",
        "print(a)\n",
        "print(a[1,2])\n",
        "a=np.array([[1,2,3],[4,5,6],[7,8,9]])\n",
        "print(a[0:2])\n",
        "print(a[0:2,-2:])"
      ],
      "metadata": {
        "id": "4wJjGr9sf_0C"
      },
      "execution_count": null,
      "outputs": []
    },
    {
      "cell_type": "markdown",
      "source": [
        "slicing 3-d array"
      ],
      "metadata": {
        "id": "FuN4BYXgg74t"
      }
    },
    {
      "cell_type": "code",
      "source": [
        "a=np.array([[[1,2],[3,4],[5,6]],\n",
        "            [[7,8],[8,9],[10,11]],\n",
        "            [[12,13],[14,15],[16,17]]])\n",
        "print(a)\n",
        "print(a[0:2])\n",
        "print(a[0:2,1:])\n",
        "print(a[0:2,1:,1:])"
      ],
      "metadata": {
        "id": "lTZ8vjDpg7pN"
      },
      "execution_count": null,
      "outputs": []
    },
    {
      "cell_type": "markdown",
      "source": [
        "#array manupulation\n",
        "np.transpose()"
      ],
      "metadata": {
        "id": "YsGgA4s8h05g"
      }
    },
    {
      "cell_type": "code",
      "source": [
        "a=np.random.randint(20)\n",
        "scale=1.0\n",
        "random_numbers=np.random.binomial(10,0.2,size=(5,4))\n",
        "print(\"random numbers aftwer binomial distribution\")\n",
        "print(random_numbers)\n",
        "print(random_numbers.shape)\n",
        "transpose=np.transpose(random_numbers)\n",
        "print(transpose)\n",
        "print(transpose.shape)"
      ],
      "metadata": {
        "id": "OjeBIAyNh0vJ"
      },
      "execution_count": null,
      "outputs": []
    },
    {
      "cell_type": "markdown",
      "source": [
        "np.reshape()"
      ],
      "metadata": {
        "id": "sIimN164i8hj"
      }
    },
    {
      "cell_type": "code",
      "source": [
        "array=np.array(np.random.randint(10,45,(3,8)))\n",
        "print(\"your current array:\")\n",
        "print(array)\n",
        "print(\"original shape\",array.shape)\n",
        "new_shape=(2,4,3)\n",
        "reshape_array=np.reshape(array,new_shape)\n",
        "print(reshape_array)\n",
        "print(\"current shape:\",reshape_array.shape)"
      ],
      "metadata": {
        "id": "9L_d32rQi8V0"
      },
      "execution_count": null,
      "outputs": []
    },
    {
      "cell_type": "markdown",
      "source": [
        "np.resize(shape)"
      ],
      "metadata": {
        "id": "hlwwGflBkdM-"
      }
    },
    {
      "cell_type": "code",
      "source": [
        "array=np.array(np.random.randint(10,45,(2,4,6)))\n",
        "print(array)\n",
        "print(array.size)\n",
        "print(array.shape)\n",
        "new_shape=(4,3,6)\n",
        "new_array=np.resize(array,new_shape)\n",
        "print(new_array)\n",
        "print(new_array.size)\n",
        "print(new_array.shape)"
      ],
      "metadata": {
        "id": "6tOZMcO3kc_9"
      },
      "execution_count": null,
      "outputs": []
    },
    {
      "cell_type": "markdown",
      "source": [
        "np.flatten()"
      ],
      "metadata": {
        "id": "h--darSslvxe"
      }
    },
    {
      "cell_type": "code",
      "source": [
        "array=np.array(np.random.randint(10,45,(2,4,6)))\n",
        "print(array)\n",
        "print(array.size)\n",
        "print(array.shape)\n",
        "new_array=array.flatten()\n",
        "print(new_array)\n",
        "print(new_array.size)\n",
        "print(new_array.shape)"
      ],
      "metadata": {
        "id": "9GVU-N90lvjG"
      },
      "execution_count": null,
      "outputs": []
    }
  ]
}